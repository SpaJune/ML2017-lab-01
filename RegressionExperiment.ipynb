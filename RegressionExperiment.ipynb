{
 "cells": [
  {
   "cell_type": "code",
   "execution_count": 1,
   "metadata": {
    "collapsed": true
   },
   "outputs": [],
   "source": [
    "import matplotlib.pyplot as plt\n",
    "import numpy as np\n",
    "import sklearn\n",
    "from sklearn.datasets import load_svmlight_file\n",
    "from sklearn.model_selection import train_test_split"
   ]
  },
  {
   "cell_type": "code",
   "execution_count": 2,
   "metadata": {
    "collapsed": true
   },
   "outputs": [],
   "source": [
    "def loss(W,x,y):  #loss function，最小二乘法\n",
    "    y_=x*W\n",
    "    l=np.mean(np.square(y_-y))\n",
    "    return l\n"
   ]
  },
  {
   "cell_type": "code",
   "execution_count": 6,
   "metadata": {
    "collapsed": true
   },
   "outputs": [],
   "source": [
    "def get_data(dir):\n",
    "    data = load_svmlight_file(dir)\n",
    "    return data[0], data[1]\n",
    "\n",
    "\n",
    "dir=\"./housing_scale\"\n",
    "x,y=get_data(dir)\n",
    "\n",
    "\n",
    "x_train, x_test, y_train, y_test = train_test_split(x, y, test_size=0.30) #分割数据集\n",
    "\n",
    "x_train=x_train.todense()  #变成稠密矩阵，方便运算\n",
    "x_train=np.column_stack((np.ones(x_train.shape[0]),x_train)) #加上一列偏置\n",
    "y_train=np.transpose(np.mat(y_train))\n",
    "\n",
    "#print(np.column_stack((np.ones(x_train.shape[0]),x_train)))\n",
    "\n",
    "x_test=x_test.todense()\n",
    "x_test=np.column_stack((np.ones(x_test.shape[0]),x_test))\n",
    "y_test=np.transpose(np.mat(y_test))\n",
    "\n",
    "\n",
    "def gradient(w,x,y,lamda):\n",
    "    #print(x_train.T*(y-x_train*w))\n",
    "    return lamda*w-x_train.T*(y-x_train*w)\n",
    "\n",
    "origin_w=np.random.standard_normal([14,1])"
   ]
  },
  {
   "cell_type": "code",
   "execution_count": 66,
   "metadata": {
    "collapsed": true
   },
   "outputs": [],
   "source": [
    "#w=np.zeros([14,1])\n",
    "w=origin_w\n",
    "eta=0.001\n",
    "lamda=1\n",
    "epoch=200\n",
    "loss_train=[]\n",
    "loss_test=[]\n",
    "for i in range(epoch):\n",
    "    g=gradient(w,x_train,y_train,lamda)\n",
    "    w=w-eta*g;  #梯度下降公式，带正则项\n",
    "    #print(loss(w,x_test,y_test))\n",
    "    loss_train.append(loss(w,x_train,y_train))   #把每次迭代的训练集的loss加入到list里面，方便最后画图，下同\n",
    "    loss_test.append(loss(w,x_test,y_test))"
   ]
  },
  {
   "cell_type": "code",
   "execution_count": 67,
   "metadata": {},
   "outputs": [
    {
     "data": {
      "image/png": "[encoded data removed]",
      "text/plain": [
       "<matplotlib.figure.Figure at 0x25749d61668>"
      ]
     },
     "metadata": {},
     "output_type": "display_data"
    }
   ],
   "source": [
    "iteration=list(range(epoch))\n",
    "\n",
    "plt.figure()\n",
    "l1,=plt.plot(iteration,loss_train,label=\"training loss\")\n",
    "l2,=plt.plot(iteration,loss_test,label=\"testing loss\")\n",
    "plt.legend(handles = [l1, l2,], labels = ['training loss', 'testing loss'])\n",
    "plt.xlabel(\"iteration\")\n",
    "plt.ylabel(\"loss\")\n",
    "plt.title(\"Linear Regression\")\n",
    "plt.show()\n"
   ]
  },
  {
   "cell_type": "code",
   "execution_count": 68,
   "metadata": {},
   "outputs": [
    {
     "name": "stdout",
     "output_type": "stream",
     "text": [
      "22.5689552865\n",
      "21.627049656\n",
      "354\n",
      "152\n"
     ]
    }
   ],
   "source": [
    "print(loss_train[-1])\n",
    "print(loss_test[-1])\n",
    "print(x_train.shape[0])\n",
    "print(x_test.shape[0])"
   ]
  },
  {
   "cell_type": "code",
   "execution_count": null,
   "metadata": {
    "collapsed": true
   },
   "outputs": [],
   "source": []
  }
 ],
 "metadata": {
  "kernelspec": {
   "display_name": "Python 3",
   "language": "python",
   "name": "python3"
  },
  "language_info": {
   "codemirror_mode": {
    "name": "ipython",
    "version": 3
   },
   "file_extension": ".py",
   "mimetype": "text/x-python",
   "name": "python",
   "nbconvert_exporter": "python",
   "pygments_lexer": "ipython3",
   "version": "3.5.2"
  }
 },
 "nbformat": 4,
 "nbformat_minor": 2
}

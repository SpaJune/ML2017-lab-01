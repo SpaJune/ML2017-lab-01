{
 "cells": [
  {
   "cell_type": "code",
   "execution_count": 98,
   "metadata": {
    "collapsed": true
   },
   "outputs": [],
   "source": [
    "import numpy as np\n",
    "import matplotlib.pyplot as plt\n",
    "import sklearn\n",
    "from sklearn.datasets import load_svmlight_file\n",
    "from sklearn.model_selection import train_test_split"
   ]
  },
  {
   "cell_type": "code",
   "execution_count": 99,
   "metadata": {
    "collapsed": true
   },
   "outputs": [],
   "source": [
    "def get_data(dir):\n",
    "    data = load_svmlight_file(dir)\n",
    "    return data[0], data[1]\n",
    "\n",
    "dir=\"./australian_scale\""
   ]
  },
  {
   "cell_type": "code",
   "execution_count": 195,
   "metadata": {},
   "outputs": [
    {
     "name": "stdout",
     "output_type": "stream",
     "text": [
      "552\n",
      "138\n"
     ]
    }
   ],
   "source": [
    "x,y=x,y=get_data(dir)\n",
    "x_train, x_test, y_train, y_test = train_test_split(x, y, test_size=0.20)\n",
    "\n",
    "x_train=x_train.todense()\n",
    "x_train=np.column_stack((np.ones(x_train.shape[0]),x_train)) #加多一列偏置\n",
    "y_train=np.transpose(np.mat(y_train))\n",
    "\n",
    "\n",
    "x_test=x_test.todense()\n",
    "x_test=np.column_stack((np.ones(x_test.shape[0]),x_test)) #多一列偏置\n",
    "y_test=np.transpose(np.mat(y_test))\n",
    "\n",
    "print(x_train.shape[0])\n",
    "print(x_test.shape[0])"
   ]
  },
  {
   "cell_type": "code",
   "execution_count": 196,
   "metadata": {
    "collapsed": true
   },
   "outputs": [],
   "source": [
    "def hinge_loss(w,x,y):\n",
    "    l=1-np.multiply(y,x*w) #把小于的化为false\n",
    "    l2=(l>=0)   #把大于等于0的化为true\n",
    "    r=np.multiply(l,l2)#筛选\n",
    "    #print(r)\n",
    "    return np.mean(r)  \n",
    "\n",
    "def accuracy(w,x,y,threshold): #计算精确率\n",
    "    y_=x*w\n",
    "    result=np.multiply(y,y_)\n",
    "    result=(result>=threshold)\n",
    "    return np.mean(result)\n",
    "\n",
    "def loss(w,x,y):  #大于等于0的化为true，小于0的化为false\n",
    "    l=1-np.multiply(y,x*w)\n",
    "    l2=(l>=0)\n",
    "    return l2\n",
    "\n",
    "def gradient(w,x,y,C): \n",
    "    tmp=np.multiply(y,loss(w,x,y)) #筛选\n",
    "    g=w-C*np.sum(np.multiply(x_train,tmp),0).T #梯度运算\n",
    "    return g\n",
    "\n",
    "origin_w=np.random.standard_normal([x.shape[1]+1,1]) #得到初始的w，方便后面控制变量做测试"
   ]
  },
  {
   "cell_type": "code",
   "execution_count": 209,
   "metadata": {
    "scrolled": true
   },
   "outputs": [
    {
     "name": "stdout",
     "output_type": "stream",
     "text": [
      "0.840579710145\n",
      "0.858695652174\n"
     ]
    }
   ],
   "source": [
    "eta=0.0005\n",
    "C=1\n",
    "epoch=600\n",
    "#w=np.zeros([x.shape[1]+1,1])\n",
    "\n",
    "w=origin_w\n",
    "#print(w)\n",
    "loss_train=[]\n",
    "loss_test=[]\n",
    "\n",
    "for i in range(epoch):\n",
    "    g=gradient(w,x_train,y_train,C) #计算梯度\n",
    "    w=w-eta*g  #梯度下降\n",
    "    #print(w)\n",
    "    loss_train.append(hinge_loss(w,x_train,y_train)) #记录，方便下面画图\n",
    "    loss_test.append(hinge_loss(w,x_test,y_test))\n",
    "\n",
    "print(accuracy(w,x_test,y_test,0))\n",
    "print(accuracy(w,x_train,y_train,0))"
   ]
  },
  {
   "cell_type": "code",
   "execution_count": 210,
   "metadata": {},
   "outputs": [
    {
     "data": {
      "image/png": "[encoded data removed]",
      "text/plain": [
       "<matplotlib.figure.Figure at 0x1d7bf9bf828>"
      ]
     },
     "metadata": {},
     "output_type": "display_data"
    }
   ],
   "source": [
    "iteration=list(range(epoch))\n",
    "\n",
    "plt.figure()\n",
    "l1,=plt.plot(iteration,loss_train)\n",
    "#plt.figure()\n",
    "l2,=plt.plot(iteration,loss_test)\n",
    "plt.title(\"Linear Classification\")\n",
    "plt.legend([l1,l2,],[\"training loss\",\"validation loss\"])\n",
    "plt.xlabel(\"iteration\")\n",
    "plt.ylabel(\"average loss\")\n",
    "\n",
    "plt.show()"
   ]
  },
  {
   "cell_type": "code",
   "execution_count": null,
   "metadata": {
    "collapsed": true
   },
   "outputs": [],
   "source": []
  },
  {
   "cell_type": "code",
   "execution_count": null,
   "metadata": {
    "collapsed": true
   },
   "outputs": [],
   "source": []
  }
 ],
 "metadata": {
  "kernelspec": {
   "display_name": "Python 3",
   "language": "python",
   "name": "python3"
  },
  "language_info": {
   "codemirror_mode": {
    "name": "ipython",
    "version": 3
   },
   "file_extension": ".py",
   "mimetype": "text/x-python",
   "name": "python",
   "nbconvert_exporter": "python",
   "pygments_lexer": "ipython3",
   "version": "3.5.2"
  }
 },
 "nbformat": 4,
 "nbformat_minor": 2
}
